{
 "cells": [
  {
   "cell_type": "markdown",
   "metadata": {
    "datalore": {
     "hide_input_from_viewers": true,
     "hide_output_from_viewers": true,
     "node_id": "yRxF3fGk83TKVLrMatsfF6",
     "type": "MD"
    }
   },
   "source": [
    "# <u>Submission instructions</u>\n",
    "### Submission in pairs unless otherwise authorized\n",
    "<ul style=\"font-size: 17px\">\n",
    "<li> This notebook contains all the questions. You should follow the instructions below.</li>\n",
    "<li> Solutions for both theoretical and practical parts should be written in this notebook</li>\n",
    "</ul>\n",
    "\n",
    "<h3> Moodle submission</h3>\n",
    "\n",
    "\n",
    "<p style=\"font-size: 17px\">\n",
    "You should submit three files:\n",
    "</p>\n",
    "<ul style=\"font-size: 17px\">\n",
    "<li>IPYNB notebook:\n",
    "  <ul>\n",
    "  <li>All the wet and dry parts, including code, graphs, discussion, etc.</li>\n",
    "  </ul>\n",
    "</li>\n",
    "<li>PDF file:\n",
    "  <ul>\n",
    "  <li>Export the notebook to PDF. Make sure that all the cells are visible.</li>\n",
    "  </ul>\n",
    "</li>\n",
    "</ul>\n",
    "<p style=\"font-size: 17px\">\n",
    "All files should be in the following format: \"HW2_ID1_ID2.file\"\n",
    "<br>\n",
    "Good Luck!\n",
    "</p>"
   ]
  },
  {
   "cell_type": "markdown",
   "metadata": {
    "datalore": {
     "hide_input_from_viewers": true,
     "hide_output_from_viewers": true,
     "node_id": "6xzUJDnGaEAHujTj6qflUn",
     "type": "MD"
    }
   },
   "source": [
    "# Question 1 - Generalizrtion and Overfit (30 pt)"
   ]
  },
  {
   "cell_type": "markdown",
   "metadata": {
    "datalore": {
     "hide_input_from_viewers": true,
     "hide_output_from_viewers": true,
     "node_id": "zEM8X7YZrr3g1oxEhxBe4G",
     "type": "MD"
    }
   },
   "source": [
    "<p style=\"font-size: 17px\"> In this exercise, we will demonstrate overfitting to random labels.The settings are the following:\n",
    "<ul style=\"font-size: 17px\">\n",
    "<li> Use the MNIST dataset.\n",
    "<li> Work on the first 128 samples from the training dataset.\n",
    "<li> Fix the following parameters:\n",
    "    <ul>\n",
    "        <li> Shuffle to False.\n",
    "        <li> Batch size to 128.\n",
    "    </ul>\n",
    "<li> Generate random labels from Bernoulli distribution with a probability of $\\frac{1}{2}$. I.e.,each sample is assigned a random label which is zero or one.\n",
    "</ul>\n",
    "\n",
    "<p style=\"font-size: 17px\">\n",
    "Show that by using a Fully Connected netwrok and cross-entropy loss, you are able to achieve a loss value of ~0 (the lower the better).\n",
    "Plot the accuracy and loss convergence for this data and the test data as a function of epochs.\n",
    "What is the accuracy value of the test data? Explain\n",
    "</p>"
   ]
  },
  {
   "cell_type": "code",
   "execution_count": 1,
   "metadata": {},
   "outputs": [],
   "source": [
    "import torch\n",
    "import torch.nn as nn\n",
    "import torchvision\n",
    "from torch.utils.data import DataLoader\n",
    "\n",
    "import pandas as pd\n",
    "import matplotlib.pyplot as plt\n",
    "\n",
    "# Constants\n",
    "EPOCHS = 30\n",
    "BATCH_SIZE = 128\n",
    "NUM_OF_CLASSES = 2 # 0 or 1\n",
    "\n",
    "# Transformation for the data\n",
    "transform = torchvision.transforms.Compose(\n",
    "    [torchvision.transforms.ToTensor(),\n",
    "     torch.flatten])"
   ]
  },
  {
   "cell_type": "code",
   "execution_count": null,
   "metadata": {},
   "outputs": [],
   "source": []
  },
  {
   "cell_type": "code",
   "execution_count": null,
   "metadata": {},
   "outputs": [],
   "source": []
  },
  {
   "cell_type": "code",
   "execution_count": 2,
   "metadata": {
    "scrolled": false
   },
   "outputs": [],
   "source": [
    "# Create dataloaders\n",
    "train_dataset = torchvision.datasets.MNIST(root='./data', train=True,\n",
    "                                            download=True, transform=transform)\n",
    "\n",
    "\n",
    "train_dataset = torch.utils.data.Subset(train_dataset, torch.arange(128))\n",
    "\n",
    "train_dataloader = torch.utils.data.DataLoader(train_dataset, batch_size=BATCH_SIZE, shuffle=False)\n",
    "\n",
    "\n",
    "test_dataset = torchvision.datasets.MNIST(root='./data', train=False,\n",
    "                                           download=True, transform=transform)\n",
    "test_dataloader = torch.utils.data.DataLoader(test_dataset, batch_size=BATCH_SIZE, shuffle=False)"
   ]
  },
  {
   "cell_type": "code",
   "execution_count": 3,
   "metadata": {
    "scrolled": true
   },
   "outputs": [],
   "source": [
    "# Generate random labels from Bernoulli distribution with a p = 0.5\n",
    "p = 0.5\n",
    "\n",
    "y_train = torch.bernoulli(torch.full((len(train_dataset),), p))\n",
    "y_test = torch.bernoulli(torch.full((len(test_dataset),), p))"
   ]
  },
  {
   "cell_type": "code",
   "execution_count": 4,
   "metadata": {},
   "outputs": [],
   "source": [
    "# Define the Fully Connected Network model\n",
    "\n",
    "class FullyConnectedNN(nn.Module):\n",
    "    def __init__(self, input_size, hidden_size, num_classes):\n",
    "        super(FullyConnectedNN, self).__init__()\n",
    "        self.fc1 = nn.Linear(input_size, hidden_size)\n",
    "        self.relu = nn.ReLU()\n",
    "        self.fc2 = nn.Linear(hidden_size, num_classes)\n",
    "\n",
    "    def forward(self, x):\n",
    "        out = self.fc1(x)\n",
    "        out = self.relu(out)\n",
    "        out = self.fc2(out)\n",
    "        return out"
   ]
  },
  {
   "cell_type": "code",
   "execution_count": 5,
   "metadata": {},
   "outputs": [],
   "source": [
    "model = FullyConnectedNN(784, 128, NUM_OF_CLASSES)\n",
    "\n",
    "# Define the loss function and optimizer\n",
    "criterion = nn.CrossEntropyLoss()\n",
    "optimizer = torch.optim.Adam(model.parameters(), lr=0.001)"
   ]
  },
  {
   "cell_type": "code",
   "execution_count": 6,
   "metadata": {},
   "outputs": [
    {
     "name": "stdout",
     "output_type": "stream",
     "text": [
      "Epoch [1/30], Train Loss: 0.6969, Train Accuracy: 50.00%, Test Loss: 0.6943, Test Accuracy: 49.59%\n",
      "Epoch [2/30], Train Loss: 0.6712, Train Accuracy: 72.66%, Test Loss: 0.6961, Test Accuracy: 49.66%\n",
      "Epoch [3/30], Train Loss: 0.6500, Train Accuracy: 78.12%, Test Loss: 0.6984, Test Accuracy: 49.60%\n",
      "Epoch [4/30], Train Loss: 0.6295, Train Accuracy: 77.34%, Test Loss: 0.7024, Test Accuracy: 49.60%\n",
      "Epoch [5/30], Train Loss: 0.6101, Train Accuracy: 77.34%, Test Loss: 0.7078, Test Accuracy: 49.45%\n",
      "Epoch [6/30], Train Loss: 0.5912, Train Accuracy: 77.34%, Test Loss: 0.7142, Test Accuracy: 49.42%\n",
      "Epoch [7/30], Train Loss: 0.5725, Train Accuracy: 78.12%, Test Loss: 0.7217, Test Accuracy: 49.32%\n",
      "Epoch [8/30], Train Loss: 0.5542, Train Accuracy: 78.91%, Test Loss: 0.7306, Test Accuracy: 49.17%\n",
      "Epoch [9/30], Train Loss: 0.5366, Train Accuracy: 77.34%, Test Loss: 0.7402, Test Accuracy: 49.18%\n",
      "Epoch [10/30], Train Loss: 0.5192, Train Accuracy: 79.69%, Test Loss: 0.7500, Test Accuracy: 49.07%\n",
      "Epoch [11/30], Train Loss: 0.5018, Train Accuracy: 81.25%, Test Loss: 0.7600, Test Accuracy: 49.18%\n",
      "Epoch [12/30], Train Loss: 0.4846, Train Accuracy: 81.25%, Test Loss: 0.7706, Test Accuracy: 49.33%\n",
      "Epoch [13/30], Train Loss: 0.4677, Train Accuracy: 81.25%, Test Loss: 0.7819, Test Accuracy: 49.19%\n",
      "Epoch [14/30], Train Loss: 0.4510, Train Accuracy: 82.81%, Test Loss: 0.7937, Test Accuracy: 49.32%\n",
      "Epoch [15/30], Train Loss: 0.4348, Train Accuracy: 84.38%, Test Loss: 0.8060, Test Accuracy: 49.33%\n",
      "Epoch [16/30], Train Loss: 0.4189, Train Accuracy: 82.81%, Test Loss: 0.8186, Test Accuracy: 49.47%\n",
      "Epoch [17/30], Train Loss: 0.4034, Train Accuracy: 84.38%, Test Loss: 0.8313, Test Accuracy: 49.42%\n",
      "Epoch [18/30], Train Loss: 0.3881, Train Accuracy: 84.38%, Test Loss: 0.8444, Test Accuracy: 49.43%\n",
      "Epoch [19/30], Train Loss: 0.3731, Train Accuracy: 85.16%, Test Loss: 0.8581, Test Accuracy: 49.45%\n",
      "Epoch [20/30], Train Loss: 0.3584, Train Accuracy: 85.94%, Test Loss: 0.8724, Test Accuracy: 49.21%\n",
      "Epoch [21/30], Train Loss: 0.3438, Train Accuracy: 86.72%, Test Loss: 0.8871, Test Accuracy: 49.18%\n",
      "Epoch [22/30], Train Loss: 0.3297, Train Accuracy: 88.28%, Test Loss: 0.9021, Test Accuracy: 49.19%\n",
      "Epoch [23/30], Train Loss: 0.3159, Train Accuracy: 88.28%, Test Loss: 0.9176, Test Accuracy: 49.21%\n",
      "Epoch [24/30], Train Loss: 0.3024, Train Accuracy: 89.84%, Test Loss: 0.9338, Test Accuracy: 49.17%\n",
      "Epoch [25/30], Train Loss: 0.2892, Train Accuracy: 89.06%, Test Loss: 0.9509, Test Accuracy: 49.02%\n",
      "Epoch [26/30], Train Loss: 0.2764, Train Accuracy: 89.06%, Test Loss: 0.9690, Test Accuracy: 48.98%\n",
      "Epoch [27/30], Train Loss: 0.2641, Train Accuracy: 91.41%, Test Loss: 0.9873, Test Accuracy: 49.02%\n",
      "Epoch [28/30], Train Loss: 0.2521, Train Accuracy: 92.97%, Test Loss: 1.0057, Test Accuracy: 49.14%\n",
      "Epoch [29/30], Train Loss: 0.2403, Train Accuracy: 92.97%, Test Loss: 1.0246, Test Accuracy: 49.26%\n",
      "Epoch [30/30], Train Loss: 0.2290, Train Accuracy: 94.53%, Test Loss: 1.0440, Test Accuracy: 49.28%\n"
     ]
    }
   ],
   "source": [
    "train_loss = []\n",
    "train_accuracy = []\n",
    "test_loss = []\n",
    "test_accuracy = []\n",
    "\n",
    "for epoch in range(EPOCHS):\n",
    "    \n",
    "    # Training\n",
    "    model.train() # Set the model to training mode\n",
    "    epoch_train_loss = 0\n",
    "    correct_train_predictions = 0\n",
    "    \n",
    "    for i, (train_inputs, _) in enumerate(train_dataloader):             \n",
    "        train_labels = y_train[(i * BATCH_SIZE) : ((i+1) * BATCH_SIZE)]\n",
    "\n",
    "        # Forward pass\n",
    "        train_outputs = model(train_inputs)\n",
    "        loss = criterion(train_outputs, train_labels.long())\n",
    "        epoch_train_loss += loss.item()\n",
    "\n",
    "        # Backward and optimize\n",
    "        optimizer.zero_grad()\n",
    "        loss.backward()\n",
    "        optimizer.step()\n",
    "\n",
    "        _, predicted_labels = torch.max(train_outputs, 1)\n",
    "        correct_train_predictions += (predicted_labels == train_labels).sum().item()\n",
    "\n",
    "    train_accuracy.append(correct_train_predictions / len(train_dataset))\n",
    "    train_loss.append(epoch_train_loss / len(train_dataloader))\n",
    "\n",
    "    # Testing                  \n",
    "    model.eval() # Set the model to evaluation mode\n",
    "    epoch_test_loss = 0\n",
    "    correct_test_predictions = 0\n",
    "\n",
    "    with torch.no_grad():\n",
    "        for j, (test_inputs, _) in enumerate(test_dataloader):\n",
    "            test_labels = y_test[(j * BATCH_SIZE) : ((j+1) * BATCH_SIZE)]\n",
    "                          \n",
    "            test_outputs = model(test_inputs)\n",
    "            loss = criterion(test_outputs, test_labels.long())\n",
    "            epoch_test_loss += loss.item()\n",
    "\n",
    "            _, predicted_labels = torch.max(test_outputs, 1)\n",
    "            correct_test_predictions += (predicted_labels == test_labels).sum().item()\n",
    "\n",
    "    test_accuracy.append(correct_test_predictions / len(test_dataset))\n",
    "    test_loss.append(epoch_test_loss / len(test_dataloader))\n",
    "\n",
    "\n",
    "#     Print the results for the current epoch\n",
    "    print(f'Epoch [{epoch+1}/{EPOCHS}], Train Loss: {train_loss[-1]:.4f}, Train Accuracy: {train_accuracy[-1]* 100:.2f}%, '\n",
    "          f'Test Loss: {test_loss[-1]:.4f}, Test Accuracy: {test_accuracy[-1]* 100:.2f}%')"
   ]
  },
  {
   "cell_type": "code",
   "execution_count": 7,
   "metadata": {},
   "outputs": [
    {
     "data": {
      "image/png": "[encoded data removed]",
      "text/plain": [
       "<Figure size 864x432 with 2 Axes>"
      ]
     },
     "metadata": {
      "needs_background": "light"
     },
     "output_type": "display_data"
    }
   ],
   "source": [
    "# Plot the accuracy and loss as a function of the epochs\n",
    "plt.figure(figsize=(12, 6))\n",
    "plt.subplot(1, 2, 1)\n",
    "plt.plot(range(1, EPOCHS + 1), train_loss, label='Train Loss')\n",
    "plt.plot(range(1, EPOCHS + 1), test_loss, label='Test Loss')\n",
    "plt.title('Training and Test Loss Over Epochs')\n",
    "plt.xlabel('Epochs')\n",
    "plt.ylabel('Loss')\n",
    "plt.legend()\n",
    "\n",
    "plt.subplot(1, 2, 2)\n",
    "plt.plot(range(1, EPOCHS + 1), train_accuracy, label='Train Accuracy')\n",
    "plt.plot(range(1, EPOCHS + 1), test_accuracy, label='Test Accuracy')\n",
    "plt.title('Training and Test Accuracy Over Epochs')\n",
    "plt.xlabel('Epochs')\n",
    "plt.ylabel('Accuracy')\n",
    "plt.legend()\n",
    "plt.show()"
   ]
  },
  {
   "cell_type": "markdown",
   "metadata": {},
   "source": [
    "**Explanation:**\n",
    "\n",
    "While the network achieves decreasing training loss and increasing training accuracy, indicating learning from the training data, the testing loss increases steadily, suggesting low generalization. The testing accuracy remains stagnant around 50%, indicating the model's failure to perform better than random guessing on unseen data. This highlights the issue of overfitting, where the model memorizes the training data but fails to generalize. Therefore, although the network achieves a low training loss, it does not translate to satisfactory performance on the test data, underscoring the need for addressing overfitting and improving generalization capabilities."
   ]
  },
  {
   "cell_type": "markdown",
   "metadata": {
    "datalore": {
     "hide_input_from_viewers": true,
     "hide_output_from_viewers": true,
     "node_id": "sLpu4mV3CfDdBPts3GiBa3",
     "type": "MD"
    }
   },
   "source": [
    "********************"
   ]
  },
  {
   "cell_type": "markdown",
   "metadata": {
    "datalore": {
     "hide_input_from_viewers": true,
     "hide_output_from_viewers": true,
     "node_id": "gr6R5J0GZ8W4yhRCXw3nDz",
     "type": "MD"
    }
   },
   "source": [
    "<h1> Question 2 - Sentiment Analysis - Classification (70 pt)</h1>"
   ]
  },
  {
   "cell_type": "markdown",
   "metadata": {
    "datalore": {
     "hide_input_from_viewers": true,
     "hide_output_from_viewers": true,
     "node_id": "OIk1yvlBuHpRJmBX5LoPsN",
     "type": "MD"
    }
   },
   "source": [
    "### Exercise\n",
    "<p style=\"font-size: 17px\">\n",
    "The goal of this exercise is to get familiar with recurrent neural networks. \n",
    "<br><br>\n",
    "The field of detecting which emotion is represented in a text is developing and being\n",
    "studied due to its usefulness. For example, detecting if a review is positive or\n",
    "negative and more.\n",
    "<br><br>\n",
    "In this exercise, you will detect the emotion of a sentence. You should get at least 47% accuracy on the test set.\n",
    "<br><br>\n",
    "You should\n",
    "<ul style=\"font-size: 17px\">\n",
    "  <li> Try different model architectures - Vanilla RNN and Gated model (GRU/LSTM)</li>\n",
    "  <li> Use different optimization and regularization methods </li>\n",
    "  <li> Try different combinations of hyperparamters</li>\n",
    "</ul>\n",
    "</p>\n",
    "\n",
    "<br>\n",
    "\n",
    "### Data\n",
    "\n",
    "<p style=\"font-size: 17px\">\n",
    "The data is a csv file containing tweets and their labels according to the emotion –\n",
    "{happiness, sadness, neutral}. Every row in the file (except for the header) is an\n",
    "example. \n",
    "<br>\n",
    "Examples: (Notepad++ view)\n",
    "<ul style=\"font-size: 17px\">\n",
    "  <li> happiness,Welcome @doeko ! Really glad to know you here. Your products rox man</li>\n",
    "  <li> sadness,Disappointment really sucks! I'm getting used to it.</li>\n",
    "  <li> neutral,I just want to Sleep.</li>\n",
    "</ul>\n",
    "<p style=\"font-size: 17px\">\n",
    "You have a train file – \"trainEmotions.csv\" and a test file – \"testEmotions.csv\". Both files can be found in the \"HW2_data.zip\" file.\n",
    "</p>"
   ]
  },
  {
   "cell_type": "markdown",
   "metadata": {
    "datalore": {
     "hide_input_from_viewers": true,
     "hide_output_from_viewers": true,
     "node_id": "hKBj0FpqDeycdgncCXlylu",
     "type": "MD"
    }
   },
   "source": [
    "### a) EDA (10 pt)\n",
    "\n",
    "<p style=\"font-size: 17px\">\n",
    "Explore and analyze your data. Explain your data cleaning and processing pipeline.\n",
    "</p>"
   ]
  },
  {
   "cell_type": "code",
   "execution_count": 8,
   "metadata": {},
   "outputs": [
    {
     "name": "stderr",
     "output_type": "stream",
     "text": [
      "C:\\Users\\USER\\anaconda3\\lib\\site-packages\\scipy\\__init__.py:138: UserWarning: A NumPy version >=1.16.5 and <1.23.0 is required for this version of SciPy (detected version 1.24.3)\n",
      "  warnings.warn(f\"A NumPy version >={np_minversion} and <{np_maxversion} is required for this version of \"\n"
     ]
    }
   ],
   "source": [
    "import glob\n",
    "import unidecode\n",
    "import torch\n",
    "import unicodedata\n",
    "import string\n",
    "import pandas as pd\n",
    "from sklearn.preprocessing import OneHotEncoder\n",
    "import torch.nn as nn\n",
    "import torch.optim as optim\n",
    "from sklearn.preprocessing import LabelEncoder\n",
    "from sklearn.feature_extraction.text import CountVectorizer\n",
    "from torch.utils.data import Dataset, DataLoader\n",
    "import matplotlib.pyplot as plt\n",
    "import numpy as np\n",
    "from sklearn.metrics import confusion_matrix\n",
    "import seaborn as sns"
   ]
  },
  {
   "cell_type": "code",
   "execution_count": 9,
   "metadata": {},
   "outputs": [],
   "source": [
    "#clean the data from unknown signs\n",
    "def clean_text(text):\n",
    "    return unidecode.unidecode(text)\n",
    "\n",
    "# Find letter index from all_letters, e.g. \"a\" = 0\n",
    "def letterToIndex(letter):\n",
    "    return torch.tensor(all_letters.find(letter), dtype=torch.long).unsqueeze(0)\n",
    "\n",
    "# Turn a line into a <line_length x 1 x n_letters>,\n",
    "# or an array of one-hot letter vectors\n",
    "def lineToTensor(line):\n",
    "    return torch.nn.functional.one_hot(\n",
    "        torch.stack([letterToIndex(letter) for letter in line]),\n",
    "        num_classes=n_letters)"
   ]
  },
  {
   "cell_type": "code",
   "execution_count": 10,
   "metadata": {
    "scrolled": true
   },
   "outputs": [
    {
     "data": {
      "text/html": [
       "<div>\n",
       "<style scoped>\n",
       "    .dataframe tbody tr th:only-of-type {\n",
       "        vertical-align: middle;\n",
       "    }\n",
       "\n",
       "    .dataframe tbody tr th {\n",
       "        vertical-align: top;\n",
       "    }\n",
       "\n",
       "    .dataframe thead th {\n",
       "        text-align: right;\n",
       "    }\n",
       "</style>\n",
       "<table border=\"1\" class=\"dataframe\">\n",
       "  <thead>\n",
       "    <tr style=\"text-align: right;\">\n",
       "      <th></th>\n",
       "      <th>emotion</th>\n",
       "      <th>content</th>\n",
       "    </tr>\n",
       "  </thead>\n",
       "  <tbody>\n",
       "    <tr>\n",
       "      <th>0</th>\n",
       "      <td>happiness</td>\n",
       "      <td>victory for the bulldogs was celebrated by 3 w...</td>\n",
       "    </tr>\n",
       "    <tr>\n",
       "      <th>1</th>\n",
       "      <td>happiness</td>\n",
       "      <td>@saraLDS Thanks for that, Sara</td>\n",
       "    </tr>\n",
       "    <tr>\n",
       "      <th>2</th>\n",
       "      <td>happiness</td>\n",
       "      <td>@Tony_Mandarich well welcome back from the dar...</td>\n",
       "    </tr>\n",
       "    <tr>\n",
       "      <th>3</th>\n",
       "      <td>happiness</td>\n",
       "      <td>@sai_shediddy lol , you gotta share too</td>\n",
       "    </tr>\n",
       "    <tr>\n",
       "      <th>4</th>\n",
       "      <td>happiness</td>\n",
       "      <td>first up, make up for lost time with jelly. Ja...</td>\n",
       "    </tr>\n",
       "  </tbody>\n",
       "</table>\n",
       "</div>"
      ],
      "text/plain": [
       "     emotion                                            content\n",
       "0  happiness  victory for the bulldogs was celebrated by 3 w...\n",
       "1  happiness                     @saraLDS Thanks for that, Sara\n",
       "2  happiness  @Tony_Mandarich well welcome back from the dar...\n",
       "3  happiness            @sai_shediddy lol , you gotta share too\n",
       "4  happiness  first up, make up for lost time with jelly. Ja..."
      ]
     },
     "execution_count": 10,
     "metadata": {},
     "output_type": "execute_result"
    }
   ],
   "source": [
    "# Upload Train Data\n",
    "train_df = pd.read_csv('trainEmotions.csv')\n",
    "train_df.head(5)"
   ]
  },
  {
   "cell_type": "code",
   "execution_count": 11,
   "metadata": {
    "scrolled": true
   },
   "outputs": [
    {
     "name": "stdout",
     "output_type": "stream",
     "text": [
      "there are 98 unique characters in train_df['content']: \n"
     ]
    }
   ],
   "source": [
    "def check_unique():\n",
    "    unique_chars = set()\n",
    "\n",
    "    # Iterate over each element in the 'content' column\n",
    "    for tweet in train_df['content']:\n",
    "        unique_chars.update(tweet)\n",
    "    \n",
    "    return unique_chars\n",
    "\n",
    "unique_chars = check_unique()\n",
    "print(f\"there are {len(unique_chars)} unique characters in train_df['content']: \")"
   ]
  },
  {
   "cell_type": "code",
   "execution_count": 12,
   "metadata": {},
   "outputs": [
    {
     "name": "stdout",
     "output_type": "stream",
     "text": [
      "there are 6 not printable characters in train_df['content']: {'½', '´', 'ï', '¿', '\\xa0', 'Â'}\n"
     ]
    }
   ],
   "source": [
    "#all printable characters\n",
    "all_letters = set(string.printable)\n",
    "non_printable_chars = unique_chars - all_letters\n",
    "print(f\"there are {len(non_printable_chars)} not printable characters in train_df['content']: {non_printable_chars}\")"
   ]
  },
  {
   "cell_type": "code",
   "execution_count": 13,
   "metadata": {
    "scrolled": true
   },
   "outputs": [
    {
     "name": "stdout",
     "output_type": "stream",
     "text": [
      "there are 92 unique characters in train_df['content']: \n"
     ]
    }
   ],
   "source": [
    "# we want to remove to following chars \n",
    "train_df['content'] = train_df['content'].apply(clean_text)\n",
    "\n",
    "unique_chars = check_unique()\n",
    "print(f\"there are {len(unique_chars)} unique characters in train_df['content']: \")"
   ]
  },
  {
   "cell_type": "code",
   "execution_count": 14,
   "metadata": {},
   "outputs": [],
   "source": [
    "# Split the DataFrame into features (X) and labels (y)\n",
    "X_train = train_df['content']  # Features (text content)\n",
    "y_train = train_df['emotion']   # Labels (emotional states)"
   ]
  },
  {
   "cell_type": "code",
   "execution_count": 15,
   "metadata": {},
   "outputs": [],
   "source": [
    "# Upload Test Data and clean as well\n",
    "test_df = pd.read_csv('testEmotions.csv')\n",
    "test_df['content'] = test_df['content'].apply(clean_text)\n",
    "\n",
    "# Split the DataFrame into features (X) and labels (y)\n",
    "X_test = test_df['content']  # Features (text content)\n",
    "y_test = test_df['emotion']   # Labels (emotional states)"
   ]
  },
  {
   "cell_type": "markdown",
   "metadata": {},
   "source": [
    "**Explanation of our data cleaning and processing**\n",
    "\n",
    "We removed any characters from the 'content' column that couldn't be transformed into ASCII representation.\n",
    "This standardization of the text data enhances its suitability for processing later in the RNN model."
   ]
  },
  {
   "cell_type": "markdown",
   "metadata": {
    "datalore": {
     "hide_input_from_viewers": true,
     "hide_output_from_viewers": true,
     "node_id": "ntnNlsfxe05IFStopUSq4e",
     "type": "MD"
    }
   },
   "source": [
    "*****************************"
   ]
  },
  {
   "cell_type": "markdown",
   "metadata": {
    "datalore": {
     "hide_input_from_viewers": true,
     "hide_output_from_viewers": true,
     "node_id": "CPXtuFX9dxqZ0MrWHrNZYK",
     "type": "MD"
    }
   },
   "source": [
    "### b) Main (50 pt)\n",
    "\n",
    "<p style=\"font-size: 17px\">\n",
    "Define 2 models, as requested. Train and eval them.\n",
    "<ul style=\"font-size: 17px\">\n",
    "<li> Plot the gated model's accuracy and loss (both on train and test sets) as a function of the epochs.\n",
    "<li> Plot a confusion matrix\n",
    "</ul>\n",
    "\n",
    "</p>"
   ]
  },
  {
   "cell_type": "code",
   "execution_count": 16,
   "metadata": {},
   "outputs": [],
   "source": [
    "#from tutorial - {label: list of content} dict\n",
    "def categories_dict():\n",
    "    label_examples_dict = {}\n",
    "    for index, content in enumerate(train_df['content']):\n",
    "        label = y_train.iloc[index]\n",
    "\n",
    "        # Check if the label is already in the dictionary\n",
    "        if label in label_examples_dict:\n",
    "            label_examples_dict[label].append(content)\n",
    "        else:\n",
    "            label_examples_dict[label] = [content]\n",
    "    return label_examples_dict"
   ]
  },
  {
   "cell_type": "code",
   "execution_count": 17,
   "metadata": {},
   "outputs": [],
   "source": [
    "#all printable characters\n",
    "all_letters = string.printable\n",
    "n_letters = len(all_letters)\n",
    "\n",
    "# Build the category_lines dictionary, a list of names per label\n",
    "category_lines = categories_dict()\n",
    "\n",
    "#labels names\n",
    "all_categories = ['happiness', 'sadness', 'neutral']\n",
    "n_categories = len(all_categories)"
   ]
  },
  {
   "cell_type": "code",
   "execution_count": 18,
   "metadata": {},
   "outputs": [],
   "source": [
    "# Create custom dataset class to load the tokenized data\n",
    "class CustomDataset(Dataset):\n",
    "    def __init__(self, X, y):\n",
    "        self.X = X\n",
    "        self.y = y\n",
    "        \n",
    "    def __len__(self):\n",
    "        return len(self.X)\n",
    "    \n",
    "    def __getitem__(self, idx):\n",
    "        return self.X[idx], self.y[idx]"
   ]
  },
  {
   "cell_type": "markdown",
   "metadata": {},
   "source": [
    "## 1. Vanilla RNN"
   ]
  },
  {
   "cell_type": "code",
   "execution_count": 19,
   "metadata": {},
   "outputs": [],
   "source": [
    "class RNN(nn.Module):\n",
    "    def __init__(self, input_size= 15797, hidden_size=128, output_size=3):\n",
    "        super(RNN, self).__init__()\n",
    "\n",
    "        self.hidden_size = hidden_size\n",
    "        self.rnn = nn.RNN(input_size, hidden_size, batch_first=True)\n",
    "        self.fully_connected = nn.Linear(hidden_size, output_size)\n",
    "\n",
    "    def forward(self, x):\n",
    "        hidden = self.init_hidden()\n",
    "        output, hidden = self.rnn(x.unsqueeze(0), hidden)\n",
    "        output = output.squeeze(0)\n",
    "        output = self.fully_connected(output)\n",
    "        return output, hidden\n",
    "\n",
    "    def init_hidden(self):\n",
    "        hidden = torch.zeros(1, 1, self.hidden_size)\n",
    "        return hidden\n",
    "\n",
    "n_hidden = 128"
   ]
  },
  {
   "cell_type": "code",
   "execution_count": 20,
   "metadata": {},
   "outputs": [],
   "source": [
    "# Initialize LabelEncoder & transform labels\n",
    "label_encoder = LabelEncoder()\n",
    "\n",
    "y_train_encoded = label_encoder.fit_transform(y_train)\n",
    "y_test_encoded = label_encoder.transform(y_test)"
   ]
  },
  {
   "cell_type": "code",
   "execution_count": 21,
   "metadata": {},
   "outputs": [],
   "source": [
    "# Tokenize text using CountVectorizer\n",
    "vectorizer = CountVectorizer(stop_words='english')\n",
    "X_train = vectorizer.fit_transform(train_df['content']).toarray()\n",
    "y_train = train_df['emotion'].values\n",
    "\n",
    "X_test = vectorizer.transform(test_df['content']).toarray()\n",
    "y_test = test_df['emotion'].values"
   ]
  },
  {
   "cell_type": "code",
   "execution_count": 22,
   "metadata": {},
   "outputs": [],
   "source": [
    "# Convert data to PyTorch tensors\n",
    "X_train_tensor = torch.tensor(X_train, dtype=torch.float32)\n",
    "y_train_tensor = torch.tensor(y_train_encoded, dtype=torch.long)\n",
    "X_test_tensor = torch.tensor(X_test, dtype=torch.float32)\n",
    "y_test_tensor = torch.tensor(y_test_encoded, dtype=torch.long)"
   ]
  },
  {
   "cell_type": "code",
   "execution_count": null,
   "metadata": {},
   "outputs": [],
   "source": []
  },
  {
   "cell_type": "code",
   "execution_count": 23,
   "metadata": {},
   "outputs": [],
   "source": [
    "# Define DataLoader\n",
    "train_dataset = CustomDataset(X_train_tensor, y_train_tensor)\n",
    "train_loader = DataLoader(train_dataset, batch_size=1000, shuffle=True)\n",
    "\n",
    "test_dataset = CustomDataset(X_test_tensor, y_test_tensor)\n",
    "test_loader = DataLoader(test_dataset, batch_size=100, shuffle=True)"
   ]
  },
  {
   "cell_type": "code",
   "execution_count": 24,
   "metadata": {},
   "outputs": [],
   "source": [
    "# Instantiate the model\n",
    "model = RNN(input_size= X_train.shape[1], hidden_size=n_hidden, output_size=n_categories)"
   ]
  },
  {
   "cell_type": "code",
   "execution_count": 25,
   "metadata": {},
   "outputs": [],
   "source": [
    "# Define loss function and optimizer\n",
    "criterion = nn.CrossEntropyLoss()\n",
    "optimizer = optim.Adam(model.parameters(), lr=0.001)"
   ]
  },
  {
   "cell_type": "markdown",
   "metadata": {},
   "source": [
    "## train the model"
   ]
  },
  {
   "cell_type": "code",
   "execution_count": 26,
   "metadata": {},
   "outputs": [
    {
     "name": "stdout",
     "output_type": "stream",
     "text": [
      "Epoch [1/10], Train Loss: 1.0699, Train Acc: 0.4066, Test Loss: 1.0649, Test Acc: 0.4621\n",
      "Epoch [2/10], Train Loss: 0.9818, Train Acc: 0.6076, Test Loss: 1.0351, Test Acc: 0.5142\n",
      "Epoch [3/10], Train Loss: 0.8777, Train Acc: 0.7035, Test Loss: 1.0166, Test Acc: 0.5214\n",
      "Epoch [4/10], Train Loss: 0.7644, Train Acc: 0.7625, Test Loss: 1.0086, Test Acc: 0.5166\n",
      "Epoch [5/10], Train Loss: 0.6574, Train Acc: 0.7984, Test Loss: 1.0058, Test Acc: 0.5235\n",
      "Epoch [6/10], Train Loss: 0.5636, Train Acc: 0.8305, Test Loss: 1.0212, Test Acc: 0.5264\n",
      "Epoch [7/10], Train Loss: 0.4814, Train Acc: 0.8578, Test Loss: 1.0801, Test Acc: 0.5086\n",
      "Epoch [8/10], Train Loss: 0.4130, Train Acc: 0.8856, Test Loss: 1.0984, Test Acc: 0.5086\n",
      "Epoch [9/10], Train Loss: 0.3581, Train Acc: 0.9042, Test Loss: 1.1159, Test Acc: 0.5106\n",
      "Epoch [10/10], Train Loss: 0.3100, Train Acc: 0.9196, Test Loss: 1.1898, Test Acc: 0.5005\n"
     ]
    }
   ],
   "source": [
    "# Initialize lists to store metrics\n",
    "train_losses = []\n",
    "train_accuracies = []\n",
    "test_losses = []\n",
    "test_accuracies = []\n",
    "\n",
    "max_test_accuracy = 0\n",
    "\n",
    "num_epochs = 10\n",
    "\n",
    "# Training loop\n",
    "for epoch in range(num_epochs):\n",
    "    model.train()  # Set the model to training mode\n",
    "    correct_train = 0\n",
    "    total_train = 0\n",
    "    running_loss = 0.0\n",
    "    \n",
    "    for batch_inputs, batch_labels in train_loader:\n",
    "        optimizer.zero_grad()\n",
    "        \n",
    "\n",
    "        # Forward pass\n",
    "        outputs, _ = model(batch_inputs)\n",
    "        loss = criterion(outputs, batch_labels)\n",
    "        \n",
    "        # Backward pass and optimization\n",
    "        loss.backward()\n",
    "        optimizer.step()\n",
    "        \n",
    "        # Compute training accuracy\n",
    "        _, predicted = torch.max(outputs, 1)\n",
    "        correct_train += (predicted == batch_labels).sum().item()\n",
    "        total_train += batch_labels.size(0)\n",
    "        \n",
    "        running_loss += loss.item()\n",
    "    \n",
    "    # Compute average training loss and accuracy\n",
    "    train_loss = running_loss / len(train_loader)\n",
    "    train_accuracy = correct_train / total_train\n",
    "    \n",
    "    # Append to lists\n",
    "    train_losses.append(train_loss)\n",
    "    train_accuracies.append(train_accuracy)\n",
    "    \n",
    "    # Evaluate on test set\n",
    "    model.eval()  # Set the model to evaluation mode\n",
    "    correct_test = 0\n",
    "    total_test = 0\n",
    "    test_running_loss = 0.0\n",
    "    \n",
    "    with torch.no_grad():\n",
    "        for batch_inputs, batch_labels in test_loader:\n",
    "                            \n",
    "            outputs, _ = model(batch_inputs)\n",
    "            loss = criterion(outputs, batch_labels)\n",
    "            \n",
    "            # Compute test accuracy\n",
    "            _, predicted = torch.max(outputs, 1)\n",
    "            correct_test += (predicted == batch_labels).sum().item()\n",
    "            total_test += batch_labels.size(0)\n",
    "            \n",
    "            test_running_loss += loss.item()\n",
    "    \n",
    "    # Compute average test loss and accuracy\n",
    "    test_loss = test_running_loss / len(test_loader)\n",
    "    test_accuracy = correct_test / total_test\n",
    "    \n",
    "    # Append to lists\n",
    "    test_losses.append(test_loss)\n",
    "    test_accuracies.append(test_accuracy)\n",
    "    \n",
    "    if test_accuracy > max_test_accuracy:\n",
    "        max_test_accuracy = test_accuracy\n",
    "    \n",
    "    # Print progress\n",
    "    print(f'Epoch [{epoch+1}/{num_epochs}], Train Loss: {train_loss:.4f}, Train Acc: {train_accuracy:.4f}, Test Loss: {test_loss:.4f}, Test Acc: {test_accuracy:.4f}')"
   ]
  },
  {
   "cell_type": "code",
   "execution_count": 27,
   "metadata": {},
   "outputs": [
    {
     "name": "stdout",
     "output_type": "stream",
     "text": [
      "Reached Max Accuracy of: 52.64 on Test\n"
     ]
    }
   ],
   "source": [
    "print(f'Reached Max Accuracy of: {max_test_accuracy*100:.2f} on Test')"
   ]
  },
  {
   "cell_type": "markdown",
   "metadata": {},
   "source": [
    "## plot the results"
   ]
  },
  {
   "cell_type": "code",
   "execution_count": 28,
   "metadata": {},
   "outputs": [
    {
     "data": {
      "image/png": "[encoded data removed]",
      "text/plain": [
       "<Figure size 864x432 with 2 Axes>"
      ]
     },
     "metadata": {
      "needs_background": "light"
     },
     "output_type": "display_data"
    }
   ],
   "source": [
    "# Plot the accuracy and loss as a function of the epochs\n",
    "plt.figure(figsize=(12, 6))\n",
    "plt.subplot(1, 2, 1)\n",
    "plt.plot(range(1, num_epochs + 1), train_losses, label='Train Loss')\n",
    "plt.plot(range(1, num_epochs + 1), test_losses, label='Test Loss')\n",
    "plt.xlabel('Epochs')\n",
    "plt.ylabel('Loss')\n",
    "plt.legend()\n",
    "\n",
    "plt.subplot(1, 2, 2)\n",
    "plt.plot(range(1, num_epochs + 1), train_accuracies, label='Train Accuracy')\n",
    "plt.plot(range(1, num_epochs + 1), test_accuracies, label='Test Accuracy')\n",
    "plt.xlabel('Epochs')\n",
    "plt.ylabel('Accuracy')\n",
    "plt.legend()\n",
    "\n",
    "plt.show()"
   ]
  },
  {
   "cell_type": "markdown",
   "metadata": {},
   "source": [
    "## confusion matrix"
   ]
  },
  {
   "cell_type": "code",
   "execution_count": 29,
   "metadata": {},
   "outputs": [],
   "source": [
    "def categoryFromOutput(output):\n",
    "    max_val, argmax = output.max(dim=1,  keepdim=True) \n",
    "    category_i = argmax.item()\n",
    "    return all_categories[category_i], category_i"
   ]
  },
  {
   "cell_type": "code",
   "execution_count": 30,
   "metadata": {},
   "outputs": [],
   "source": [
    "# Function to evaluate the model\n",
    "def evaluate_model(model, test_loader):\n",
    "    all_predictions = []\n",
    "    all_targets = []\n",
    "\n",
    "    model.eval()  # Set model to evaluation mode\n",
    "    with torch.no_grad():\n",
    "        for batch_inputs, batch_labels in test_loader:\n",
    "            outputs, _ = model(batch_inputs)\n",
    "            _, predicted = torch.max(outputs, 1)\n",
    "            all_predictions.extend(predicted.tolist())\n",
    "            all_targets.extend(batch_labels.tolist())\n",
    "    \n",
    "    return all_predictions, all_targets"
   ]
  },
  {
   "cell_type": "code",
   "execution_count": 31,
   "metadata": {},
   "outputs": [
    {
     "data": {
      "image/png": "[encoded data removed]",
      "text/plain": [
       "<Figure size 720x576 with 2 Axes>"
      ]
     },
     "metadata": {
      "needs_background": "light"
     },
     "output_type": "display_data"
    }
   ],
   "source": [
    "# Evaluate the model\n",
    "predictions, targets = evaluate_model(model, test_loader)\n",
    "\n",
    "\n",
    "# Create confusion matrix\n",
    "confusion = confusion_matrix(targets, predictions)\n",
    "\n",
    "# Normalize the confusion matrix\n",
    "confusion = confusion.astype('float') / confusion.sum(axis=1)[:, np.newaxis]\n",
    "\n",
    "# Plot the confusion matrix with heatmap colors and numbers\n",
    "plt.figure(figsize=(10, 8))\n",
    "sns.heatmap(confusion, annot=True, cmap='Blues', fmt='.2f')  # Change the colormap as desired\n",
    "plt.title('Confusion matrix')\n",
    "plt.xlabel('Predicted label')\n",
    "plt.ylabel('True label')\n",
    "plt.xticks(np.arange(len(all_categories)) + 0.5, all_categories, rotation=45)\n",
    "plt.yticks(np.arange(len(all_categories)) + 0.5, all_categories, rotation=45)\n",
    "plt.show()\n"
   ]
  },
  {
   "cell_type": "markdown",
   "metadata": {},
   "source": [
    "## 2. Gated model (GRU/LSTM)"
   ]
  },
  {
   "cell_type": "code",
   "execution_count": 32,
   "metadata": {},
   "outputs": [],
   "source": [
    "class RNN(nn.Module):\n",
    "    def __init__(self, input_size, hidden_size, output_size, rnn_type='lstm'):\n",
    "        super(RNN, self).__init__()\n",
    "        self.hidden_size = hidden_size\n",
    "        self.rnn = nn.LSTM(input_size, hidden_size, batch_first=True)\n",
    "        self.fc = nn.Linear(hidden_size, output_size)\n",
    "        \n",
    "    def forward(self, x):\n",
    "        out, _ = self.rnn(x)\n",
    "        out = self.fc(out[:, -1, :])  # Taking the output from the last time step\n",
    "        return out"
   ]
  },
  {
   "cell_type": "code",
   "execution_count": 33,
   "metadata": {},
   "outputs": [],
   "source": [
    "# Initialize LabelEncoder & transform labels\n",
    "\n",
    "label_encoder = LabelEncoder()\n",
    "\n",
    "y_train_encoded = label_encoder.fit_transform(y_train)\n",
    "y_test_encoded = label_encoder.transform(y_test)"
   ]
  },
  {
   "cell_type": "code",
   "execution_count": 34,
   "metadata": {},
   "outputs": [],
   "source": [
    "# Tokenize text using CountVectorizer\n",
    "vectorizer = CountVectorizer(stop_words='english')\n",
    "X_train = vectorizer.fit_transform(train_df['content']).toarray()\n",
    "y_train = train_df['emotion'].values\n",
    "\n",
    "X_test = vectorizer.transform(test_df['content']).toarray()\n",
    "y_test = test_df['emotion'].values"
   ]
  },
  {
   "cell_type": "code",
   "execution_count": 35,
   "metadata": {},
   "outputs": [],
   "source": [
    "# Convert data to PyTorch tensors\n",
    "X_train_tensor = torch.tensor(X_train, dtype=torch.float32)\n",
    "y_train_tensor = torch.tensor(y_train_encoded, dtype=torch.long)\n",
    "X_test_tensor = torch.tensor(X_test, dtype=torch.float32)\n",
    "y_test_tensor = torch.tensor(y_test_encoded, dtype=torch.long)"
   ]
  },
  {
   "cell_type": "code",
   "execution_count": 36,
   "metadata": {},
   "outputs": [],
   "source": [
    "# Create custom dataset class to load the tokenized data\n",
    "class CustomDataset(Dataset):\n",
    "    def __init__(self, X, y):\n",
    "        self.X = X\n",
    "        self.y = y\n",
    "        \n",
    "    def __len__(self):\n",
    "        return len(self.X)\n",
    "    \n",
    "    def __getitem__(self, idx):\n",
    "        return self.X[idx], self.y[idx]"
   ]
  },
  {
   "cell_type": "code",
   "execution_count": 60,
   "metadata": {},
   "outputs": [],
   "source": [
    "# Define DataLoader\n",
    "train_dataset = CustomDataset(X_train_tensor, y_train_tensor)\n",
    "train_loader = DataLoader(train_dataset, batch_size=1000, shuffle=True)\n",
    "\n",
    "test_dataset = CustomDataset(X_test_tensor, y_test_tensor)\n",
    "test_loader = DataLoader(test_dataset, batch_size=100, shuffle=True)"
   ]
  },
  {
   "cell_type": "code",
   "execution_count": 61,
   "metadata": {},
   "outputs": [],
   "source": [
    "# Instantiate the model\n",
    "model = RNN(input_size= X_train.shape[1], hidden_size=512, output_size=n_categories)"
   ]
  },
  {
   "cell_type": "code",
   "execution_count": 62,
   "metadata": {},
   "outputs": [],
   "source": [
    "# Define loss function and optimizer\n",
    "criterion = nn.CrossEntropyLoss()\n",
    "optimizer = optim.Adam(model.parameters(), lr=0.001)"
   ]
  },
  {
   "cell_type": "markdown",
   "metadata": {},
   "source": [
    "## train the model"
   ]
  },
  {
   "cell_type": "code",
   "execution_count": 63,
   "metadata": {},
   "outputs": [
    {
     "name": "stdout",
     "output_type": "stream",
     "text": [
      "Epoch [1/10], Train Loss: 1.0801, Train Acc: 0.4298, Test Loss: 1.0686, Test Acc: 0.4515\n",
      "Epoch [2/10], Train Loss: 0.9870, Train Acc: 0.5847, Test Loss: 1.0282, Test Acc: 0.5330\n",
      "Epoch [3/10], Train Loss: 0.8372, Train Acc: 0.7468, Test Loss: 1.0113, Test Acc: 0.5214\n",
      "Epoch [4/10], Train Loss: 0.6647, Train Acc: 0.8117, Test Loss: 1.0252, Test Acc: 0.5173\n",
      "Epoch [5/10], Train Loss: 0.5158, Train Acc: 0.8454, Test Loss: 1.0889, Test Acc: 0.5144\n",
      "Epoch [6/10], Train Loss: 0.4010, Train Acc: 0.8823, Test Loss: 1.1533, Test Acc: 0.5115\n",
      "Epoch [7/10], Train Loss: 0.3158, Train Acc: 0.9097, Test Loss: 1.2388, Test Acc: 0.5032\n",
      "Epoch [8/10], Train Loss: 0.2525, Train Acc: 0.9326, Test Loss: 1.3240, Test Acc: 0.4987\n",
      "Epoch [9/10], Train Loss: 0.2055, Train Acc: 0.9487, Test Loss: 1.4092, Test Acc: 0.4937\n",
      "Epoch [10/10], Train Loss: 0.1695, Train Acc: 0.9579, Test Loss: 1.5055, Test Acc: 0.4827\n"
     ]
    }
   ],
   "source": [
    "# Initialize lists to store metrics\n",
    "train_losses = []\n",
    "train_accuracies = []\n",
    "test_losses = []\n",
    "test_accuracies = []\n",
    "\n",
    "max_test_accuracy = 0\n",
    "\n",
    "num_epochs = 10\n",
    "\n",
    "# Training loop\n",
    "for epoch in range(num_epochs):\n",
    "    model.train()  # Set the model to training mode\n",
    "    correct_train = 0\n",
    "    total_train = 0\n",
    "    running_loss = 0.0\n",
    "    \n",
    "    for batch_inputs, batch_labels in train_loader:\n",
    "        optimizer.zero_grad()\n",
    "        \n",
    "        batch_inputs = batch_inputs.unsqueeze(1)\n",
    "\n",
    "        # Forward pass\n",
    "        outputs = model(batch_inputs)\n",
    "        loss = criterion(outputs, batch_labels)\n",
    "        \n",
    "        # Backward pass and optimization\n",
    "        loss.backward()\n",
    "        optimizer.step()\n",
    "        \n",
    "        # Compute training accuracy\n",
    "        _, predicted = torch.max(outputs, 1)\n",
    "        correct_train += (predicted == batch_labels).sum().item()\n",
    "        total_train += batch_labels.size(0)\n",
    "        \n",
    "        running_loss += loss.item()\n",
    "    \n",
    "    # Compute average training loss and accuracy\n",
    "    train_loss = running_loss / len(train_loader)\n",
    "    train_accuracy = correct_train / total_train\n",
    "    \n",
    "    # Append to lists\n",
    "    train_losses.append(train_loss)\n",
    "    train_accuracies.append(train_accuracy)\n",
    "    \n",
    "    # Evaluate on test set\n",
    "    model.eval()  # Set the model to evaluation mode\n",
    "    test_predictions = []\n",
    "    test_labels = []\n",
    "    correct_test = 0\n",
    "    total_test = 0\n",
    "    test_running_loss = 0.0\n",
    "    \n",
    "    with torch.no_grad():\n",
    "        for batch_inputs, batch_labels in test_loader:\n",
    "            \n",
    "            batch_inputs = batch_inputs.unsqueeze(1)\n",
    "                \n",
    "            outputs = model(batch_inputs)\n",
    "            loss = criterion(outputs, batch_labels)\n",
    "            \n",
    "            # Compute test accuracy\n",
    "            _, predicted = torch.max(outputs, 1)\n",
    "            correct_test += (predicted == batch_labels).sum().item()\n",
    "            total_test += batch_labels.size(0)\n",
    "            test_predictions.extend(predicted.tolist())\n",
    "            test_labels.extend(batch_labels.tolist())\n",
    "            \n",
    "            test_running_loss += loss.item()\n",
    "    \n",
    "    # Compute average test loss and accuracy\n",
    "    test_loss = test_running_loss / len(test_loader)\n",
    "    test_accuracy = correct_test / total_test\n",
    "    \n",
    "    # Append to lists\n",
    "    test_losses.append(test_loss)\n",
    "    test_accuracies.append(test_accuracy)\n",
    "    \n",
    "    if test_accuracy > max_test_accuracy:\n",
    "        max_test_accuracy = test_accuracy\n",
    "    \n",
    "    # Print progress\n",
    "    print(f'Epoch [{epoch+1}/{num_epochs}], Train Loss: {train_loss:.4f}, Train Acc: {train_accuracy:.4f}, Test Loss: {test_loss:.4f}, Test Acc: {test_accuracy:.4f}')"
   ]
  },
  {
   "cell_type": "code",
   "execution_count": 64,
   "metadata": {},
   "outputs": [
    {
     "name": "stdout",
     "output_type": "stream",
     "text": [
      "Reached Max Accuracy of: 53.30 on Test\n"
     ]
    }
   ],
   "source": [
    "print(f'Reached Max Accuracy of: {max_test_accuracy*100:.2f} on Test')"
   ]
  },
  {
   "cell_type": "markdown",
   "metadata": {},
   "source": [
    "## plot the results"
   ]
  },
  {
   "cell_type": "code",
   "execution_count": 65,
   "metadata": {},
   "outputs": [
    {
     "data": {
      "image/png": "[encoded data removed]",
      "text/plain": [
       "<Figure size 864x432 with 2 Axes>"
      ]
     },
     "metadata": {
      "needs_background": "light"
     },
     "output_type": "display_data"
    }
   ],
   "source": [
    "# Plot the accuracy and loss as a function of the epochs\n",
    "plt.figure(figsize=(12, 6))\n",
    "plt.subplot(1, 2, 1)\n",
    "plt.plot(range(1, num_epochs + 1), train_losses, label='Train Loss')\n",
    "plt.plot(range(1, num_epochs + 1), test_losses, label='Test Loss')\n",
    "plt.xlabel('Epochs')\n",
    "plt.ylabel('Loss')\n",
    "plt.legend()\n",
    "\n",
    "plt.subplot(1, 2, 2)\n",
    "plt.plot(range(1, num_epochs + 1), train_accuracies, label='Train Accuracy')\n",
    "plt.plot(range(1, num_epochs + 1), test_accuracies, label='Test Accuracy')\n",
    "plt.xlabel('Epochs')\n",
    "plt.ylabel('Accuracy')\n",
    "plt.legend()\n",
    "\n",
    "plt.show()"
   ]
  },
  {
   "cell_type": "markdown",
   "metadata": {},
   "source": [
    "## confusion matrix"
   ]
  },
  {
   "cell_type": "code",
   "execution_count": 66,
   "metadata": {},
   "outputs": [],
   "source": [
    "def categoryFromOutput(output):\n",
    "    max_val, argmax = output.max(dim=1,  keepdim=True) \n",
    "    category_i = argmax.item()\n",
    "    return all_categories[category_i], category_i"
   ]
  },
  {
   "cell_type": "code",
   "execution_count": null,
   "metadata": {},
   "outputs": [],
   "source": []
  },
  {
   "cell_type": "code",
   "execution_count": 67,
   "metadata": {},
   "outputs": [
    {
     "data": {
      "image/png": "[encoded data removed]",
      "text/plain": [
       "<Figure size 720x576 with 2 Axes>"
      ]
     },
     "metadata": {
      "needs_background": "light"
     },
     "output_type": "display_data"
    }
   ],
   "source": [
    "# Evaluate the model\n",
    "#predictions, targets = evaluate_model(model, test_loader)\n",
    "\n",
    "\n",
    "# Create confusion matrix\n",
    "confusion = confusion_matrix(test_labels, test_predictions)\n",
    "\n",
    "# Normalize the confusion matrix\n",
    "confusion = confusion.astype('float') / confusion.sum(axis=1)[:, np.newaxis]\n",
    "\n",
    "# Plot the confusion matrix with heatmap colors and numbers\n",
    "plt.figure(figsize=(10, 8))\n",
    "sns.heatmap(confusion, annot=True, cmap='Blues', fmt='.2f')  # Change the colormap as desired\n",
    "plt.title('Confusion matrix')\n",
    "plt.xlabel('Predicted label')\n",
    "plt.ylabel('True label')\n",
    "plt.xticks(np.arange(len(all_categories)) + 0.5, all_categories, rotation=45)\n",
    "plt.yticks(np.arange(len(all_categories)) + 0.5, all_categories, rotation=45)\n",
    "plt.show()\n"
   ]
  },
  {
   "cell_type": "markdown",
   "metadata": {},
   "source": [
    "## different optimization:\n",
    "\n",
    "we will use our LSTM model from now on"
   ]
  },
  {
   "cell_type": "code",
   "execution_count": null,
   "metadata": {},
   "outputs": [],
   "source": []
  },
  {
   "cell_type": "code",
   "execution_count": 68,
   "metadata": {},
   "outputs": [],
   "source": [
    "def train(model):\n",
    "    # Initialize lists to store metrics\n",
    "    train_losses = []\n",
    "    train_accuracies = []\n",
    "    test_losses = []\n",
    "    test_accuracies = []\n",
    "\n",
    "    max_test_accuracy = 0\n",
    "\n",
    "    num_epochs = 10\n",
    "\n",
    "    # Training loop\n",
    "    for epoch in range(num_epochs):\n",
    "        model.train()  # Set the model to training mode\n",
    "        correct_train = 0\n",
    "        total_train = 0\n",
    "        running_loss = 0.0\n",
    "\n",
    "        for batch_inputs, batch_labels in train_loader:\n",
    "            optimizer.zero_grad()\n",
    "\n",
    "            batch_inputs = batch_inputs.unsqueeze(1)\n",
    "\n",
    "            # Forward pass\n",
    "            outputs = model(batch_inputs)\n",
    "            loss = criterion(outputs, batch_labels)\n",
    "\n",
    "            # Backward pass and optimization\n",
    "            loss.backward()\n",
    "            optimizer.step()\n",
    "\n",
    "            # Compute training accuracy\n",
    "            _, predicted = torch.max(outputs, 1)\n",
    "            correct_train += (predicted == batch_labels).sum().item()\n",
    "            total_train += batch_labels.size(0)\n",
    "\n",
    "            running_loss += loss.item()\n",
    "\n",
    "        # Compute average training loss and accuracy\n",
    "        train_loss = running_loss / len(train_loader)\n",
    "        train_accuracy = correct_train / total_train\n",
    "\n",
    "        # Append to lists\n",
    "        train_losses.append(train_loss)\n",
    "        train_accuracies.append(train_accuracy)\n",
    "\n",
    "        # Evaluate on test set\n",
    "        model.eval()  # Set the model to evaluation mode\n",
    "        test_predictions = []\n",
    "        test_labels = []\n",
    "        correct_test = 0\n",
    "        total_test = 0\n",
    "        test_running_loss = 0.0\n",
    "\n",
    "        with torch.no_grad():\n",
    "            for batch_inputs, batch_labels in test_loader:\n",
    "\n",
    "                batch_inputs = batch_inputs.unsqueeze(1)\n",
    "\n",
    "                outputs = model(batch_inputs)\n",
    "                loss = criterion(outputs, batch_labels)\n",
    "\n",
    "                # Compute test accuracy\n",
    "                _, predicted = torch.max(outputs, 1)\n",
    "                correct_test += (predicted == batch_labels).sum().item()\n",
    "                total_test += batch_labels.size(0)\n",
    "                test_predictions.extend(predicted.tolist())\n",
    "                test_labels.extend(batch_labels.tolist())\n",
    "\n",
    "                test_running_loss += loss.item()\n",
    "\n",
    "        # Compute average test loss and accuracy\n",
    "        test_loss = test_running_loss / len(test_loader)\n",
    "        test_accuracy = correct_test / total_test\n",
    "\n",
    "        # Append to lists\n",
    "        test_losses.append(test_loss)\n",
    "        test_accuracies.append(test_accuracy)\n",
    "\n",
    "        if test_accuracy > max_test_accuracy:\n",
    "            max_test_accuracy = test_accuracy\n",
    "\n",
    "        # Print progress\n",
    "        print(f'Epoch [{epoch+1}/{num_epochs}], Train Loss: {train_loss:.4f}, Train Acc: {train_accuracy:.4f}, Test Loss: {test_loss:.4f}, Test Acc: {test_accuracy:.4f}')\n",
    "    return train_losses, train_accuracies, test_losses, test_accuracies, max_test_accuracy, test_predictions, test_labels"
   ]
  },
  {
   "cell_type": "code",
   "execution_count": 69,
   "metadata": {},
   "outputs": [
    {
     "name": "stdout",
     "output_type": "stream",
     "text": [
      "Epoch [1/10], Train Loss: 1.0931, Train Acc: 0.3546, Test Loss: 1.0898, Test Acc: 0.3744\n",
      "Epoch [2/10], Train Loss: 1.0869, Train Acc: 0.4128, Test Loss: 1.0867, Test Acc: 0.3748\n",
      "Epoch [3/10], Train Loss: 1.0823, Train Acc: 0.3744, Test Loss: 1.0832, Test Acc: 0.3748\n",
      "Epoch [4/10], Train Loss: 1.0785, Train Acc: 0.4499, Test Loss: 1.0810, Test Acc: 0.4017\n",
      "Epoch [5/10], Train Loss: 1.0724, Train Acc: 0.3898, Test Loss: 1.0773, Test Acc: 0.4054\n",
      "Epoch [6/10], Train Loss: 1.0652, Train Acc: 0.4801, Test Loss: 1.0725, Test Acc: 0.4796\n",
      "Epoch [7/10], Train Loss: 1.0559, Train Acc: 0.5003, Test Loss: 1.0666, Test Acc: 0.4900\n",
      "Epoch [8/10], Train Loss: 1.0447, Train Acc: 0.5091, Test Loss: 1.0597, Test Acc: 0.4879\n",
      "Epoch [9/10], Train Loss: 1.0313, Train Acc: 0.5079, Test Loss: 1.0508, Test Acc: 0.4964\n",
      "Epoch [10/10], Train Loss: 1.0161, Train Acc: 0.5215, Test Loss: 1.0439, Test Acc: 0.4794\n"
     ]
    }
   ],
   "source": [
    "# Instantiate the model\n",
    "model = RNN(input_size= X_train.shape[1], hidden_size=512, output_size=n_categories)\n",
    "\n",
    "# define optimizer as SGD\n",
    "criterion = nn.CrossEntropyLoss()\n",
    "optimizer = optim.SGD(model.parameters(), lr=0.1, momentum=0.9)\n",
    "\n",
    "train_losses, train_accuracies, test_losses, test_accuracies, max_acc, test_predictions, test_labels = train(model)"
   ]
  },
  {
   "cell_type": "code",
   "execution_count": 70,
   "metadata": {},
   "outputs": [
    {
     "name": "stdout",
     "output_type": "stream",
     "text": [
      "Reached Max Accuracy of: 49.64 on Test\n"
     ]
    }
   ],
   "source": [
    "print(f'Reached Max Accuracy of: {max_acc*100:.2f} on Test')"
   ]
  },
  {
   "cell_type": "code",
   "execution_count": 71,
   "metadata": {},
   "outputs": [
    {
     "data": {
      "image/png": "[encoded data removed]",
      "text/plain": [
       "<Figure size 864x432 with 2 Axes>"
      ]
     },
     "metadata": {
      "needs_background": "light"
     },
     "output_type": "display_data"
    }
   ],
   "source": [
    "# Plot the accuracy and loss as a function of the epochs\n",
    "plt.figure(figsize=(12, 6))\n",
    "plt.subplot(1, 2, 1)\n",
    "plt.plot(range(1, num_epochs + 1), train_losses, label='Train Loss')\n",
    "plt.plot(range(1, num_epochs + 1), test_losses, label='Test Loss')\n",
    "plt.xlabel('Epochs')\n",
    "plt.ylabel('Loss')\n",
    "plt.legend()\n",
    "\n",
    "plt.subplot(1, 2, 2)\n",
    "plt.plot(range(1, num_epochs + 1), train_accuracies, label='Train Accuracy')\n",
    "plt.plot(range(1, num_epochs + 1), test_accuracies, label='Test Accuracy')\n",
    "plt.xlabel('Epochs')\n",
    "plt.ylabel('Accuracy')\n",
    "plt.legend()\n",
    "\n",
    "plt.show()"
   ]
  },
  {
   "cell_type": "code",
   "execution_count": 72,
   "metadata": {},
   "outputs": [
    {
     "data": {
      "image/png": "[encoded data removed]",
      "text/plain": [
       "<Figure size 720x576 with 2 Axes>"
      ]
     },
     "metadata": {
      "needs_background": "light"
     },
     "output_type": "display_data"
    }
   ],
   "source": [
    "# Evaluate the model\n",
    "#predictions, targets = evaluate_model(model, test_loader)\n",
    "\n",
    "\n",
    "# Create confusion matrix\n",
    "confusion = confusion_matrix(test_labels, test_predictions)\n",
    "\n",
    "# Normalize the confusion matrix\n",
    "confusion = confusion.astype('float') / confusion.sum(axis=1)[:, np.newaxis]\n",
    "\n",
    "# Plot the confusion matrix with heatmap colors and numbers\n",
    "plt.figure(figsize=(10, 8))\n",
    "sns.heatmap(confusion, annot=True, cmap='Blues', fmt='.2f')  # Change the colormap as desired\n",
    "plt.title('Confusion matrix')\n",
    "plt.xlabel('Predicted label')\n",
    "plt.ylabel('True label')\n",
    "plt.xticks(np.arange(len(all_categories)) + 0.5, all_categories, rotation=45)\n",
    "plt.yticks(np.arange(len(all_categories)) + 0.5, all_categories, rotation=45)\n",
    "plt.show()\n"
   ]
  },
  {
   "cell_type": "markdown",
   "metadata": {},
   "source": [
    "## 3. different hyperparameters:"
   ]
  },
  {
   "cell_type": "code",
   "execution_count": 73,
   "metadata": {},
   "outputs": [
    {
     "name": "stdout",
     "output_type": "stream",
     "text": [
      "Epoch [1/10], Train Loss: 1.1158, Train Acc: 0.2687, Test Loss: 1.1161, Test Acc: 0.2688\n",
      "Epoch [2/10], Train Loss: 1.1157, Train Acc: 0.2687, Test Loss: 1.1158, Test Acc: 0.2688\n",
      "Epoch [3/10], Train Loss: 1.1156, Train Acc: 0.2687, Test Loss: 1.1158, Test Acc: 0.2688\n",
      "Epoch [4/10], Train Loss: 1.1157, Train Acc: 0.2687, Test Loss: 1.1160, Test Acc: 0.2688\n",
      "Epoch [5/10], Train Loss: 1.1156, Train Acc: 0.2687, Test Loss: 1.1156, Test Acc: 0.2688\n",
      "Epoch [6/10], Train Loss: 1.1155, Train Acc: 0.2687, Test Loss: 1.1160, Test Acc: 0.2688\n",
      "Epoch [7/10], Train Loss: 1.1156, Train Acc: 0.2687, Test Loss: 1.1162, Test Acc: 0.2688\n",
      "Epoch [8/10], Train Loss: 1.1157, Train Acc: 0.2687, Test Loss: 1.1159, Test Acc: 0.2688\n",
      "Epoch [9/10], Train Loss: 1.1156, Train Acc: 0.2687, Test Loss: 1.1160, Test Acc: 0.2688\n",
      "Epoch [10/10], Train Loss: 1.1155, Train Acc: 0.2687, Test Loss: 1.1160, Test Acc: 0.2688\n"
     ]
    }
   ],
   "source": [
    "#we changed hidden size to 64\n",
    "optimizer = optim.Adam(model.parameters(), lr=0.001)\n",
    "\n",
    "\n",
    "model = RNN(input_size= X_train.shape[1], hidden_size=64, output_size=n_categories)\n",
    "train_losses, train_accuracies, test_losses, test_accuracies, max_acc, test_predictions, test_labels = train(model)"
   ]
  },
  {
   "cell_type": "code",
   "execution_count": 74,
   "metadata": {},
   "outputs": [
    {
     "name": "stdout",
     "output_type": "stream",
     "text": [
      "Reached Max Accuracy of: 26.88 on Test\n"
     ]
    }
   ],
   "source": [
    "print(f'Reached Max Accuracy of: {max_acc*100:.2f} on Test')"
   ]
  },
  {
   "cell_type": "code",
   "execution_count": 75,
   "metadata": {},
   "outputs": [
    {
     "data": {
      "image/png": "[encoded data removed]",
      "text/plain": [
       "<Figure size 864x432 with 2 Axes>"
      ]
     },
     "metadata": {
      "needs_background": "light"
     },
     "output_type": "display_data"
    }
   ],
   "source": [
    "# Plot the accuracy and loss as a function of the epochs\n",
    "plt.figure(figsize=(12, 6))\n",
    "plt.subplot(1, 2, 1)\n",
    "plt.plot(range(1, num_epochs + 1), train_losses, label='Train Loss')\n",
    "plt.plot(range(1, num_epochs + 1), test_losses, label='Test Loss')\n",
    "plt.xlabel('Epochs')\n",
    "plt.ylabel('Loss')\n",
    "plt.legend()\n",
    "\n",
    "plt.subplot(1, 2, 2)\n",
    "plt.plot(range(1, num_epochs + 1), train_accuracies, label='Train Accuracy')\n",
    "plt.plot(range(1, num_epochs + 1), test_accuracies, label='Test Accuracy')\n",
    "plt.xlabel('Epochs')\n",
    "plt.ylabel('Accuracy')\n",
    "plt.legend()\n",
    "\n",
    "plt.show()"
   ]
  },
  {
   "cell_type": "code",
   "execution_count": 76,
   "metadata": {},
   "outputs": [
    {
     "data": {
      "image/png": "[encoded data removed]",
      "text/plain": [
       "<Figure size 720x576 with 2 Axes>"
      ]
     },
     "metadata": {
      "needs_background": "light"
     },
     "output_type": "display_data"
    }
   ],
   "source": [
    "# Evaluate the model\n",
    "#predictions, targets = evaluate_model(model, test_loader)\n",
    "\n",
    "\n",
    "# Create confusion matrix\n",
    "confusion = confusion_matrix(test_labels, test_predictions)\n",
    "\n",
    "# Normalize the confusion matrix\n",
    "confusion = confusion.astype('float') / confusion.sum(axis=1)[:, np.newaxis]\n",
    "\n",
    "# Plot the confusion matrix with heatmap colors and numbers\n",
    "plt.figure(figsize=(10, 8))\n",
    "sns.heatmap(confusion, annot=True, cmap='Blues', fmt='.2f')  # Change the colormap as desired\n",
    "plt.title('Confusion matrix')\n",
    "plt.xlabel('Predicted label')\n",
    "plt.ylabel('True label')\n",
    "plt.xticks(np.arange(len(all_categories)) + 0.5, all_categories, rotation=45)\n",
    "plt.yticks(np.arange(len(all_categories)) + 0.5, all_categories, rotation=45)\n",
    "plt.show()\n"
   ]
  },
  {
   "cell_type": "markdown",
   "metadata": {
    "datalore": {
     "hide_input_from_viewers": true,
     "hide_output_from_viewers": true,
     "node_id": "RBvpUgtaVJiZe2WuL51G4n",
     "type": "MD"
    }
   },
   "source": [
    "*****************************"
   ]
  },
  {
   "cell_type": "markdown",
   "metadata": {},
   "source": [
    "## change regularization"
   ]
  },
  {
   "cell_type": "code",
   "execution_count": 77,
   "metadata": {},
   "outputs": [],
   "source": [
    "# Define DataLoader\n",
    "train_dataset = CustomDataset(X_train_tensor, y_train_tensor)\n",
    "train_loader = DataLoader(train_dataset, batch_size=1000, shuffle=True)\n",
    "\n",
    "test_dataset = CustomDataset(X_test_tensor, y_test_tensor)\n",
    "test_loader = DataLoader(test_dataset, batch_size=100, shuffle=True)"
   ]
  },
  {
   "cell_type": "code",
   "execution_count": 78,
   "metadata": {},
   "outputs": [],
   "source": [
    "class RNNWithDropout(nn.Module):\n",
    "    def __init__(self, input_size, hidden_size, output_size, rnn_type='lstm', dropout=0.0):\n",
    "        super(RNNWithDropout, self).__init__()\n",
    "        self.hidden_size = hidden_size\n",
    "        self.rnn_type = rnn_type\n",
    "        \n",
    "        if rnn_type == 'lstm':\n",
    "            self.rnn = nn.LSTM(input_size, hidden_size, batch_first=True)\n",
    "        elif rnn_type == 'gru':\n",
    "            self.rnn = nn.GRU(input_size, hidden_size, batch_first=True)\n",
    "        else:\n",
    "            raise ValueError(\"Unsupported RNN type. Choose 'lstm' or 'gru'.\")\n",
    "        \n",
    "        self.fc = nn.Linear(hidden_size, output_size)\n",
    "        self.dropout = nn.Dropout(dropout)\n",
    "        \n",
    "    def forward(self, x):\n",
    "        out, _ = self.rnn(x)\n",
    "        out = self.dropout(out)  # Applying dropout regularization\n",
    "        out = self.fc(out[:, -1, :])  # Taking the output from the last time step\n",
    "        return out"
   ]
  },
  {
   "cell_type": "code",
   "execution_count": 79,
   "metadata": {},
   "outputs": [
    {
     "name": "stdout",
     "output_type": "stream",
     "text": [
      "Epoch [1/10], Train Loss: 1.0908, Train Acc: 0.3815, Test Loss: 1.0859, Test Acc: 0.4164\n",
      "Epoch [2/10], Train Loss: 1.0675, Train Acc: 0.4938, Test Loss: 1.0758, Test Acc: 0.4528\n",
      "Epoch [3/10], Train Loss: 1.0374, Train Acc: 0.5430, Test Loss: 1.0628, Test Acc: 0.4776\n",
      "Epoch [4/10], Train Loss: 0.9929, Train Acc: 0.5938, Test Loss: 1.0456, Test Acc: 0.5063\n",
      "Epoch [5/10], Train Loss: 0.9308, Train Acc: 0.6755, Test Loss: 1.0286, Test Acc: 0.5278\n",
      "Epoch [6/10], Train Loss: 0.8530, Train Acc: 0.7452, Test Loss: 1.0136, Test Acc: 0.5352\n",
      "Epoch [7/10], Train Loss: 0.7680, Train Acc: 0.7859, Test Loss: 1.0071, Test Acc: 0.5309\n",
      "Epoch [8/10], Train Loss: 0.6851, Train Acc: 0.8122, Test Loss: 1.0087, Test Acc: 0.5284\n",
      "Epoch [9/10], Train Loss: 0.6073, Train Acc: 0.8305, Test Loss: 1.0175, Test Acc: 0.5247\n",
      "Epoch [10/10], Train Loss: 0.5415, Train Acc: 0.8497, Test Loss: 1.0323, Test Acc: 0.5247\n"
     ]
    }
   ],
   "source": [
    "model = RNNWithDropout(input_size= X_train.shape[1], hidden_size=64, output_size=n_categories, rnn_type='lstm', dropout=0.2)\n",
    "optimizer = optim.Adam(model.parameters(), lr=0.001)\n",
    "\n",
    "train_losses, train_accuracies, test_losses, test_accuracies, max_acc, test_predictions, test_labels = train(model)"
   ]
  },
  {
   "cell_type": "code",
   "execution_count": 80,
   "metadata": {},
   "outputs": [
    {
     "name": "stdout",
     "output_type": "stream",
     "text": [
      "Reached Max Accuracy of: 53.52 on Test\n"
     ]
    }
   ],
   "source": [
    "print(f'Reached Max Accuracy of: {max_acc*100:.2f} on Test')"
   ]
  },
  {
   "cell_type": "code",
   "execution_count": 81,
   "metadata": {},
   "outputs": [
    {
     "data": {
      "image/png": "[encoded data removed]",
      "text/plain": [
       "<Figure size 864x432 with 2 Axes>"
      ]
     },
     "metadata": {
      "needs_background": "light"
     },
     "output_type": "display_data"
    }
   ],
   "source": [
    "# Plot the accuracy and loss as a function of the epochs\n",
    "plt.figure(figsize=(12, 6))\n",
    "plt.subplot(1, 2, 1)\n",
    "plt.plot(range(1, num_epochs + 1), train_losses, label='Train Loss')\n",
    "plt.plot(range(1, num_epochs + 1), test_losses, label='Test Loss')\n",
    "plt.xlabel('Epochs')\n",
    "plt.ylabel('Loss')\n",
    "plt.legend()\n",
    "\n",
    "plt.subplot(1, 2, 2)\n",
    "plt.plot(range(1, num_epochs + 1), train_accuracies, label='Train Accuracy')\n",
    "plt.plot(range(1, num_epochs + 1), test_accuracies, label='Test Accuracy')\n",
    "plt.xlabel('Epochs')\n",
    "plt.ylabel('Accuracy')\n",
    "plt.legend()\n",
    "\n",
    "plt.show()"
   ]
  },
  {
   "cell_type": "code",
   "execution_count": 82,
   "metadata": {},
   "outputs": [
    {
     "data": {
      "image/png": "[encoded data removed]",
      "text/plain": [
       "<Figure size 720x576 with 2 Axes>"
      ]
     },
     "metadata": {
      "needs_background": "light"
     },
     "output_type": "display_data"
    }
   ],
   "source": [
    "# Evaluate the model\n",
    "#predictions, targets = evaluate_model(model, test_loader)\n",
    "\n",
    "\n",
    "# Create confusion matrix\n",
    "confusion = confusion_matrix(test_labels, test_predictions)\n",
    "\n",
    "# Normalize the confusion matrix\n",
    "confusion = confusion.astype('float') / confusion.sum(axis=1)[:, np.newaxis]\n",
    "\n",
    "# Plot the confusion matrix with heatmap colors and numbers\n",
    "plt.figure(figsize=(10, 8))\n",
    "sns.heatmap(confusion, annot=True, cmap='Blues', fmt='.2f')  # Change the colormap as desired\n",
    "plt.title('Confusion matrix')\n",
    "plt.xlabel('Predicted label')\n",
    "plt.ylabel('True label')\n",
    "plt.xticks(np.arange(len(all_categories)) + 0.5, all_categories, rotation=45)\n",
    "plt.yticks(np.arange(len(all_categories)) + 0.5, all_categories, rotation=45)\n",
    "plt.show()\n"
   ]
  },
  {
   "cell_type": "markdown",
   "metadata": {
    "datalore": {
     "hide_input_from_viewers": true,
     "hide_output_from_viewers": true,
     "node_id": "8gf1cw2XMmeQv2sDAJDpSl",
     "type": "MD"
    }
   },
   "source": [
    "### c) Discussion (10 pt)\n",
    "<p style=\"font-size: 17px\">\n",
    "Discuss the differences in the methods you have tried. \n",
    "</p>"
   ]
  },
  {
   "cell_type": "markdown",
   "metadata": {},
   "source": [
    "The 2 models have some differences:\n",
    "\n",
    "1. Architecture: Vanilla RNN maintains only one set of weights that operates on sequential input data, while LSTMs have a more complex architecture, which includes multiple gates (input gate, forget gate, and output gate) that control the flow of information\n",
    "\n",
    "2. Memory Capacity: LSTM models are designed to deal with the vanishing gradient problem, which is common in Vanilla RNNs, by  maintain information and dependencies over longer periods.\n",
    "\n",
    "3. Training: vanilla RNNs may struggle to converge on long-term dependencies capturing tasks due to the vanishing gradient problem. LSTMs are mostly achieve better performances on tasks with long sequences processing. \n",
    "\n",
    "4. Training complexity: As we saw in our model, LSTMs require more resources and time than the Vanilla RNN model.\n",
    "\n",
    "\n",
    "In the data we recieved, we didn't see any big difference in our results of each model. We believe the reason for that is the sentences we trained our models on were too short for significant long term processing.\n",
    "\n",
    "We also noticed that the LSTM training took much more time than the Vanilla RNN model, as explained above.\n",
    "\n",
    "\n",
    "\n",
    "Different hyperparameters - we tried to use a lower hidden size in our model. Smaller hidden size means fewer parameters learned in the hidden layer, which reduces the model's ability to learn complex patterns in the data.\n",
    "\n",
    "Different optimizer and regularization - we tried to use sgd instead of adam. It seems the model did a little worse than the original LSTM model, but still gave us good enough score. As for the regularization, we tried to use dropout regularization, in order to reduce overfitting. The regularized model gave us almost the same result. That could happen because our data and model are to simple, so it could cause underfitting, and in this case adding regularization won't help."
   ]
  },
  {
   "cell_type": "markdown",
   "metadata": {
    "datalore": {
     "hide_input_from_viewers": true,
     "hide_output_from_viewers": true,
     "node_id": "46SLBMlsDzgpwUxwQKiN1h",
     "type": "MD"
    }
   },
   "source": [
    "*****************************"
   ]
  }
 ],
 "metadata": {
  "datalore": {
   "base_environment": "default",
   "computation_mode": "JUPYTER",
   "package_manager": "pip",
   "packages": [],
   "report_row_ids": [],
   "version": 3
  },
  "kernelspec": {
   "display_name": "Python 3",
   "language": "python",
   "name": "python3"
  },
  "language_info": {
   "codemirror_mode": {
    "name": "ipython",
    "version": 3
   },
   "file_extension": ".py",
   "mimetype": "text/x-python",
   "name": "python",
   "nbconvert_exporter": "python",
   "pygments_lexer": "ipython3",
   "version": "3.8.8"
  }
 },
 "nbformat": 4,
 "nbformat_minor": 4
}
